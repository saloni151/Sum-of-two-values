{
 "cells": [
  {
   "cell_type": "markdown",
   "id": "1f688fa7-9287-4e1d-84f6-986b2f959d92",
   "metadata": {},
   "source": [
    "**Write a program for calculating sum of two numbers**"
   ]
  },
  {
   "cell_type": "code",
   "execution_count": 1,
   "id": "5ea0bae0-d8bf-4f6d-af5c-5bbf6dea7506",
   "metadata": {},
   "outputs": [
    {
     "name": "stdin",
     "output_type": "stream",
     "text": [
      "Enter the first value in a:  5\n"
     ]
    }
   ],
   "source": [
    "#Entering the first value from the user\n",
    "a=float(input(\"Enter the first value in a: \"))"
   ]
  },
  {
   "cell_type": "code",
   "execution_count": 2,
   "id": "2089dfda-e5b5-42be-bf6b-ef4264966c89",
   "metadata": {},
   "outputs": [
    {
     "name": "stdin",
     "output_type": "stream",
     "text": [
      "Enter the Second value in b:  6\n"
     ]
    }
   ],
   "source": [
    "#Entering the second value from the user\n",
    "b=float(input(\"Enter the Second value in b: \"))"
   ]
  },
  {
   "cell_type": "code",
   "execution_count": 3,
   "id": "fce99f7a-26bf-4299-be4e-11d80b623292",
   "metadata": {},
   "outputs": [],
   "source": [
    "#Calculating the sum\n",
    "c=a+b"
   ]
  },
  {
   "cell_type": "code",
   "execution_count": 4,
   "id": "982e3f2d-f3d9-4d7b-bace-8dc1459d1b38",
   "metadata": {},
   "outputs": [
    {
     "name": "stdout",
     "output_type": "stream",
     "text": [
      "The value of a = 5.0\n"
     ]
    }
   ],
   "source": [
    "#To display the value of a\n",
    "print(\"The value of a = {}\".format(a))"
   ]
  },
  {
   "cell_type": "code",
   "execution_count": 5,
   "id": "0b7d540d-4480-45f3-9af6-adc2b46601da",
   "metadata": {},
   "outputs": [
    {
     "name": "stdout",
     "output_type": "stream",
     "text": [
      "The value of b = 6.0\n"
     ]
    }
   ],
   "source": [
    "#To display the value of b\n",
    "print(\"The value of b = {}\".format(b))"
   ]
  },
  {
   "cell_type": "code",
   "execution_count": 6,
   "id": "f9c556ef-2ff2-451f-a6a7-4d1927b63859",
   "metadata": {},
   "outputs": [
    {
     "name": "stdout",
     "output_type": "stream",
     "text": [
      "The sum value c= 11.0\n"
     ]
    }
   ],
   "source": [
    "#To display the sum value\n",
    "print(\"The sum value c= {}\".format(c))"
   ]
  },
  {
   "cell_type": "code",
   "execution_count": null,
   "id": "556f49fa-7dbb-40ac-be30-a20284e01fe2",
   "metadata": {},
   "outputs": [],
   "source": []
  },
  {
   "cell_type": "code",
   "execution_count": null,
   "id": "72c0aa51-c1e8-441e-a036-2c7bf29bd895",
   "metadata": {},
   "outputs": [],
   "source": []
  },
  {
   "cell_type": "code",
   "execution_count": null,
   "id": "8501b6db-9962-4f45-a19f-a15fd6024c74",
   "metadata": {},
   "outputs": [],
   "source": []
  },
  {
   "cell_type": "code",
   "execution_count": null,
   "id": "cafafe62-a4f8-4ee3-a74e-ad4696b89296",
   "metadata": {},
   "outputs": [],
   "source": []
  },
  {
   "cell_type": "code",
   "execution_count": null,
   "id": "17f9cfe9-9ae9-49a3-a2e8-c56e0ef68f71",
   "metadata": {},
   "outputs": [],
   "source": []
  },
  {
   "cell_type": "code",
   "execution_count": null,
   "id": "b5c9da19-a348-4818-a725-6231c951e989",
   "metadata": {},
   "outputs": [],
   "source": []
  },
  {
   "cell_type": "code",
   "execution_count": null,
   "id": "ab00e77c-5238-4474-8751-8128617b006c",
   "metadata": {},
   "outputs": [],
   "source": []
  },
  {
   "cell_type": "code",
   "execution_count": null,
   "id": "c67dcf45-b8d9-4c6a-8c7d-2969c87ba83c",
   "metadata": {},
   "outputs": [],
   "source": []
  },
  {
   "cell_type": "code",
   "execution_count": null,
   "id": "b10df8e5-44bf-45dd-8197-5bac122f26e6",
   "metadata": {},
   "outputs": [],
   "source": []
  },
  {
   "cell_type": "code",
   "execution_count": null,
   "id": "8b6a2aa7-08a2-4704-b6d5-c74ae56bbef3",
   "metadata": {},
   "outputs": [],
   "source": []
  }
 ],
 "metadata": {
  "kernelspec": {
   "display_name": "Python 3 (ipykernel)",
   "language": "python",
   "name": "python3"
  },
  "language_info": {
   "codemirror_mode": {
    "name": "ipython",
    "version": 3
   },
   "file_extension": ".py",
   "mimetype": "text/x-python",
   "name": "python",
   "nbconvert_exporter": "python",
   "pygments_lexer": "ipython3",
   "version": "3.12.7"
  }
 },
 "nbformat": 4,
 "nbformat_minor": 5
}
